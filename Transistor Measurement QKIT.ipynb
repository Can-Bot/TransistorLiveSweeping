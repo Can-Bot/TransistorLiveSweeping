{
 "cells": [
  {
   "cell_type": "code",
   "execution_count": 1,
   "id": "after-mason",
   "metadata": {},
   "outputs": [
    {
     "name": "stdout",
     "output_type": "stream",
     "text": [
      "QKIT configuration initialized -> available as qkit.cfg[...]\n",
      "Starting QKIT framework ... -> qkit.core.startup\n",
      "Loading module ... S10_logging.py\n",
      "Loading module ... S14_setup_directories.py\n",
      "Loading module ... S16_available_modules.py\n",
      "Loading module ... S20_check_for_updates.py\n",
      "Loading module ... S25_info_service.py\n",
      "Loading module ... S30_qkit_start.py\n",
      "Loading module ... S65_load_RI_service.py\n",
      "Loading module ... S70_load_visa.py\n",
      "Loading module ... S80_load_file_service.py\n",
      "Loading module ... S85_init_measurement.py\n"
     ]
    },
    {
     "data": {
      "application/vnd.jupyter.widget-view+json": {
       "model_id": "684be12cbafc43bd8237ccfa4962010c",
       "version_major": 2,
       "version_minor": 0
      },
      "text/plain": [
       "HBox(children=(Text(value='', description='Please check: Run ID', placeholder='***RUN_ID IS EMPTY***', style=D…"
      ]
     },
     "metadata": {},
     "output_type": "display_data"
    },
    {
     "name": "stdout",
     "output_type": "stream",
     "text": [
      "Loading module ... S98_started.py\n",
      "Loading module ... S99_init_user.py\n",
      "Initialized the file info database (qkit.fid) in 0.060 seconds.\n"
     ]
    }
   ],
   "source": [
    "import qkit\n",
    "qkit.cfg['load_visa'] = True\n",
    "qkit.cfg['datadir']=r\"C:\\Users\\weideslab-admin\\Documents\\Python Scripts\\QKIT Implementation\"\n",
    "qkit.start()\n",
    "\n",
    "from qkit import visa\n",
    "import time\n",
    "import h5py\n",
    "import pandas as pd\n",
    "import sys\n",
    "import numpy as np\n",
    "import math\n",
    "import matplotlib.pyplot as plt\n",
    "\n",
    "from qkit.measure.transport import transport\n",
    "import qkit.measure.samples_class as sc"
   ]
  },
  {
   "cell_type": "code",
   "execution_count": null,
   "id": "shaped-ontario",
   "metadata": {},
   "outputs": [],
   "source": [
    "keithley_2450_VBS=qkit.instruments.create(\"keithley_2450_VBS\",\"Keithley_2450_gla\", address=\"TCPIP0::192.168.1.8::inst0::INSTR\")\n",
    "keithley_2450_VDS=qkit.instruments.create(\"keithley_2450_VDS\",\"Keithley_2450_gla\", address=\"TCPIP0::192.168.1.39::inst0::INSTR\")\n",
    "keithley_2450_VGS=qkit.instruments.create(\"keithley_2450_VGS\",\"Keithley_2450_gla\", address=\"TCPIP0::192.168.1.50::inst0::INSTR\")"
   ]
  },
  {
   "cell_type": "code",
   "execution_count": null,
   "id": "contrary-compression",
   "metadata": {},
   "outputs": [],
   "source": [
    "#Keithley settings\n",
    "keithley_2450_VDS.reset()\n",
    "keithley_2450_VDS.set_rear()\n",
    "\n",
    "keithley_2450_VDS._visainstrument.write(\"SOUR:FUNC VOLT\")\n",
    "keithley_2450_VDS._visainstrument.write(\"SOUR:VOLT:ILIM \"+str(3e-3))\n",
    "keithley_2450_VDS._visainstrument.write(\"SENS:CURR:RANG:AUTO ON\")\n",
    "keithley_2450_VDS._visainstrument.write(\"SENS:CURR:NPLCycles 1\")\n",
    "keithley_2450_VDS._visainstrument.write(\":OUTP:STAT ON\")\n",
    "#SMU1.set_nplc(1) # number of power line cycles\n",
    "#keithley_2450_VDS.meas_delay=0.5 #delay between each measurement in a sweep [seconds]\n",
    "#keithley_2450_VDS.set_sweep_mode(\"VOLT\",\"CURR\") # set function: bias first, sense second [VV,IV,VI,II]\n",
    "keithley_2450_VDS.set_4W(0) #set 4point sensing (1) or 2point (0)\n",
    "\n",
    "keithley_2450_VGS.reset()\n",
    "keithley_2450_VGS.set_rear()\n",
    "\n",
    "keithley_2450_VGS._visainstrument.write(\"SOUR:FUNC VOLT\")\n",
    "keithley_2450_VGS._visainstrument.write(\"SOUR:VOLT:ILIM \"+str(3e-3))\n",
    "keithley_2450_VGS._visainstrument.write(\":OUTP:STAT ON\")\n",
    "#SMU2.set_nplc(1) # number of power line cycles\n",
    "#keithley_2450_VGS.meas_delay=0.5 #delay between each measurement in a sweep [seconds]\n",
    "#keithley_2450_VGS.set_sweep_mode(\"VOLT\",\"CURR\") # set function: bias first, sense second [VV,IV,VI,II]\n",
    "#keithley_2450_VGS.set_4W(0) #set 4point sensing (1) or 2point (0)\n",
    "\n",
    "keithley_2450_VBS.reset()\n",
    "keithley_2450_VBS.set_rear()\n",
    "\n",
    "keithley_2450_VBS._visainstrument.write(\"SOUR:FUNC VOLT\")\n",
    "keithley_2450_VBS._visainstrument.write(\"SOUR:VOLT:ILIM \"+str(3e-3))\n",
    "keithley_2450_VBS._visainstrument.write(\":OUTP:STAT ON\")\n",
    "#SMU3.set_nplc(1) # number of power line cycles\n",
    "#keithley_2450_VBS.meas_delay=0.5 #delay between each measurement in a sweep [seconds]\n",
    "#keithley_2450_VBS.set_sweep_mode(\"VOLT\",\"CURR\") # set function: bias first, sense second [VV,IV,VI,II]\n",
    "#keithley_2450_VBS.set_4W(0) #set 4point sensing (1) or 2point (0)\n"
   ]
  },
  {
   "cell_type": "code",
   "execution_count": null,
   "id": "english-exercise",
   "metadata": {},
   "outputs": [],
   "source": [
    "#Initialize transport measurement class with corresponding SMU unit\n",
    "tr1=transport.transport(keithley_2450_VGS)\n",
    "sample = sc.Sample()\n",
    "sample.name = 'Vg'\n",
    "sample.comment = 'comments'\n",
    "\n",
    "\n",
    "tr2=transport.transport(keithley_2450_VBS)\n",
    "sample = sc.Sample()\n",
    "sample.name = 'Vb'\n",
    "sample.comment = 'comments'\n",
    "\n",
    "tr3=transport.transport(keithley_2450_VDS)\n",
    "sample = sc.Sample()\n",
    "sample.name = 'Vd'\n",
    "sample.comment = 'comments'"
   ]
  },
  {
   "cell_type": "code",
   "execution_count": null,
   "id": "395c9981",
   "metadata": {},
   "outputs": [],
   "source": [
    "step_VBS = 0.3 #[0.5]\n",
    "step_VGS = 0.3#[0.05]\n",
    "step_VDS = 0.3#[0.025]\n",
    "\n",
    "\n",
    "#value_VBS = [round(b, 3) for b in list(np.arange(-0.3,0.7,step_VBS))]  #-0.5 0 0.05 1 1.35 (Body values)\n",
    "value_VBS = [0,0.1] #for discrete body bias please enter the values here and comment above\n",
    "value_VGS = [0.2,0.4,0.6] \n",
    "#value_VGS = [0,0.5,1]\n",
    "value_VDS = [round(d, 3) for d in list(np.arange(0,1.21,step_VDS))]\n",
    "#value_VBS_nmos = [0]   #0 0.05 0.1\n",
    "#value_VDS_nmos = [round(d, 3) for d in list(np.arange(0,1.9,0.05))]   #0 0.1 ... 1.8     #0 0.9 1.8\n",
    "#value_VGS_nmos = [round(g, 3) for g in list(np.arange(0.9,1.9,0.9))] \n",
    "tr3.measure_transistor_IDS_vs_VDS(keithley_2450_VGS,keithley_2450_VDS,value_VBS,value_VGS,value_VDS,\"try1\")"
   ]
  },
  {
   "cell_type": "code",
   "execution_count": null,
   "id": "8c32702a",
   "metadata": {},
   "outputs": [],
   "source": [
    "step_VBS = 0.3 #[0.5]\n",
    "step_VDS = 0.5 #[0.9]\n",
    "step_VGS = 0.1 #[0.05]\n",
    "\n",
    "\n",
    "#value_VBS = [round(b, 3) for b in list(np.arange(-0.3,0.7,step_VBS))]  #0 0.05 0.1\n",
    "value_VBS = [0,0.1] #For discrete body bias please specify values here and comment above\n",
    "#value_VDS = [0.05] + [round(d, 3) for d in list(np.arange(0.5,1.5,step_VDS))]    #0.05 0.3 ... 1.8\n",
    "value_VDS = [0.05,0.9,1.8]\n",
    "value_VGS = [round(g, 3) for g in list(np.arange(0,1.81,step_VGS))]  \n",
    "tr2.measure_transistor_IDS_vs_VGS(keithley_2450_VGS,keithley_2450_VDS,value_VBS,value_VGS,value_VDS,\"try1\")"
   ]
  },
  {
   "cell_type": "code",
   "execution_count": null,
   "id": "dcf02140",
   "metadata": {},
   "outputs": [],
   "source": []
  }
 ],
 "metadata": {
  "kernelspec": {
   "display_name": "Python 3 (ipykernel)",
   "language": "python",
   "name": "python3"
  },
  "language_info": {
   "codemirror_mode": {
    "name": "ipython",
    "version": 3
   },
   "file_extension": ".py",
   "mimetype": "text/x-python",
   "name": "python",
   "nbconvert_exporter": "python",
   "pygments_lexer": "ipython3",
   "version": "3.7.13"
  }
 },
 "nbformat": 4,
 "nbformat_minor": 5
}
